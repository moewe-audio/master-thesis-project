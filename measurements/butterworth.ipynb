{
 "cells": [
  {
   "cell_type": "code",
   "execution_count": 3,
   "id": "f26596b4",
   "metadata": {},
   "outputs": [
    {
     "name": "stdout",
     "output_type": "stream",
     "text": [
      "// Butterworth HP: order=4, cutoff=75.0 Hz, fs=48000.0 Hz\n",
      "\n",
      "// 4th-order Butterworth high-pass biquad sections\n",
      "// Format per section: {a1, a2, b0, b1, b2}\n",
      "// Section 1\n",
      "float biquad1[5] = { -1.9819275f, 0.98202301f, 0.98725471f, -1.9745094f, 0.98725471f };\n",
      "// Section 2\n",
      "float biquad2[5] = { -1.9924183f, 0.99251427f, 1.0f, -2.0f, 1.0f };\n",
      "\n"
     ]
    }
   ],
   "source": [
    "import numpy as np\n",
    "from scipy import signal\n",
    "\n",
    "def design_butterworth_hp(order, cutoff_hz, fs):\n",
    "    wn = cutoff_hz / (fs / 2)\n",
    "    sos = signal.butter(order, wn, btype='highpass', output='sos')\n",
    "    return sos\n",
    "\n",
    "def print_sos(sos):\n",
    "    print(\"// 4th-order Butterworth high-pass biquad sections\")\n",
    "    print(\"// Format per section: {a1, a2, b0, b1, b2}\")\n",
    "    for i, section in enumerate(sos):\n",
    "        b0, b1, b2, a0, a1, a2 = section\n",
    "        b0_n = b0 / a0\n",
    "        b1_n = b1 / a0\n",
    "        b2_n = b2 / a0\n",
    "        a1_n = a1 / a0\n",
    "        a2_n = a2 / a0\n",
    "        print(f\"// Section {i+1}\")\n",
    "        print(f\"float biquad{i+1}[5] = {{ {a1_n:.8}f, {a2_n:.8}f, {b0_n:.8}f, \"\n",
    "              f\"{b1_n:.8}f, {b2_n:.8}f }};\")\n",
    "    print()\n",
    "\n",
    "order = 4\n",
    "cutoff = 75.0     # Hz\n",
    "fs = 48000.0      # Hz\n",
    "sos = design_butterworth_hp(order, cutoff, fs)\n",
    "print(f\"// Butterworth HP: order={order}, cutoff={cutoff} Hz, fs={fs} Hz\\n\")\n",
    "print_sos(sos)\n"
   ]
  }
 ],
 "metadata": {
  "kernelspec": {
   "display_name": ".venv",
   "language": "python",
   "name": "python3"
  },
  "language_info": {
   "codemirror_mode": {
    "name": "ipython",
    "version": 3
   },
   "file_extension": ".py",
   "mimetype": "text/x-python",
   "name": "python",
   "nbconvert_exporter": "python",
   "pygments_lexer": "ipython3",
   "version": "3.13.1"
  }
 },
 "nbformat": 4,
 "nbformat_minor": 5
}
