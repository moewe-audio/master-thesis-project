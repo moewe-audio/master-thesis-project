{
 "cells": [
  {
   "cell_type": "code",
   "execution_count": 35,
   "id": "3a3ab21e",
   "metadata": {},
   "outputs": [
    {
     "name": "stdout",
     "output_type": "stream",
     "text": [
      "Noise RMS: 0.001384\n",
      "signal_post_2-3.wav: Signal RMS = 0.001144, SNR = 0.83 | -1.65 dB\n",
      "signal_post_2-2.wav: Signal RMS = 0.000598, SNR = 0.43 | -7.29 dB\n",
      "signal_post_2-1.wav: Signal RMS = 0.000855, SNR = 0.62 | -4.19 dB\n",
      "Standard Deviation of SNR: 2.30 dB\n",
      "Median SNR: -4.19 dB\n",
      "Average SNR: -4.38 dB\n"
     ]
    }
   ],
   "source": [
    "import numpy as np\n",
    "import soundfile as sf\n",
    "import librosa\n",
    "import os\n",
    "\n",
    "# Compute RMS\n",
    "def compute_rms(x):\n",
    "    return np.sqrt(np.mean(np.square(x)))\n",
    "\n",
    "FOLDER = 'snr'\n",
    "SERIES_FOLDER = 'post_3'\n",
    "noise_file = 'reference_noise_post_2-1.wav'\n",
    "signal_files = [f for f in os.listdir(f'{FOLDER}/{SERIES_FOLDER}') if f.endswith('.wav')]\n",
    "top_db = 20.0\n",
    "\n",
    "# Load noise and compute RMS\n",
    "noise, sr = sf.read(f'{FOLDER}/{SERIES_FOLDER}/{noise_file}')\n",
    "if noise.ndim > 1:\n",
    "    noise = noise.mean(axis=1)\n",
    "noise_rms = compute_rms(noise)\n",
    "print(f\"Noise RMS: {noise_rms:.6f}\")\n",
    "\n",
    "# Process each pluck\n",
    "snr_values = []\n",
    "for path in signal_files:\n",
    "    if path == noise_file:\n",
    "        continue\n",
    "    sig, _ = sf.read(f'{FOLDER}/{SERIES_FOLDER}/{path}')\n",
    "    if sig.ndim > 1:\n",
    "        sig = sig.mean(axis=1)\n",
    "    trimmed, _ = librosa.effects.trim(sig, top_db=top_db)\n",
    "    total_rms = compute_rms(trimmed)\n",
    "    signal_power = max(0.0, total_rms**2 - noise_rms**2)\n",
    "    signal_rms = np.sqrt(signal_power)\n",
    "    snr = signal_rms / noise_rms if noise_rms > 0 else np.inf\n",
    "    snr_db = 20 * np.log10(signal_rms / noise_rms) if noise_rms > 0 else np.inf\n",
    "    snr_values.append(snr_db)\n",
    "    print(f\"{path}: Signal RMS = {signal_rms:.6f}, SNR = {snr:.2f} | {snr_db:.2f} dB\")\n",
    "\n",
    "# Average SNR\n",
    "avg_snr = np.mean(snr_values)\n",
    "median_snr = np.median(snr_values)\n",
    "dev_snr = np.std(snr_values)\n",
    "print(f\"Standard Deviation of SNR: {dev_snr:.2f} dB\")\n",
    "print(f\"Median SNR: {median_snr:.2f} dB\")\n",
    "print(f\"Average SNR: {avg_snr:.2f} dB\")\n"
   ]
  }
 ],
 "metadata": {
  "kernelspec": {
   "display_name": ".venv",
   "language": "python",
   "name": "python3"
  },
  "language_info": {
   "codemirror_mode": {
    "name": "ipython",
    "version": 3
   },
   "file_extension": ".py",
   "mimetype": "text/x-python",
   "name": "python",
   "nbconvert_exporter": "python",
   "pygments_lexer": "ipython3",
   "version": "3.13.1"
  }
 },
 "nbformat": 4,
 "nbformat_minor": 5
}
