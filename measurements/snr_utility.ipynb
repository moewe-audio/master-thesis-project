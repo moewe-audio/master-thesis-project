{
 "cells": [
  {
   "cell_type": "code",
   "execution_count": 3,
   "id": "3a3ab21e",
   "metadata": {},
   "outputs": [
    {
     "name": "stdout",
     "output_type": "stream",
     "text": [
      "Noise RMS: 0.001384\n",
      "signal_post_2-3.wav: Signal RMS = 0.001144, SNR = 0.83 | -1.65 dB\n",
      "signal_post_2-2.wav: Signal RMS = 0.000598, SNR = 0.43 | -7.29 dB\n",
      "signal_post_2-1.wav: Signal RMS = 0.000855, SNR = 0.62 | -4.19 dB\n",
      "Standard Deviation of SNR: 2.30 dB\n",
      "Median SNR: -4.19 dB\n",
      "Average SNR: -4.38 dB\n"
     ]
    }
   ],
   "source": [
    "import numpy as np\n",
    "import soundfile as sf\n",
    "import librosa\n",
    "import os\n",
    "\n",
    "# Compute RMS\n",
    "def compute_rms(x):\n",
    "    return np.sqrt(np.mean(np.square(x)))\n",
    "\n",
    "FOLDER = 'snr'\n",
    "SERIES_FOLDER = 'post_3'\n",
    "noise_file = 'reference_noise_post_2-1.wav'\n",
    "signal_files = [f for f in os.listdir(f'{FOLDER}/{SERIES_FOLDER}') if f.endswith('.wav')]\n",
    "top_db = 20.0\n",
    "\n",
    "# Load noise and compute RMS\n",
    "noise, sr = sf.read(f'{FOLDER}/{SERIES_FOLDER}/{noise_file}')\n",
    "if noise.ndim > 1:\n",
    "    noise = noise.mean(axis=1)\n",
    "noise_rms = compute_rms(noise)\n",
    "print(f\"Noise RMS: {noise_rms:.6f}\")\n",
    "\n",
    "# Process each pluck\n",
    "snr_values = []\n",
    "for path in signal_files:\n",
    "    if path == noise_file:\n",
    "        continue\n",
    "    sig, _ = sf.read(f'{FOLDER}/{SERIES_FOLDER}/{path}')\n",
    "    if sig.ndim > 1:\n",
    "        sig = sig.mean(axis=1)\n",
    "    trimmed, _ = librosa.effects.trim(sig, top_db=top_db)\n",
    "    total_rms = compute_rms(trimmed)\n",
    "    signal_power = max(0.0, total_rms**2 - noise_rms**2)\n",
    "    signal_rms = np.sqrt(signal_power)\n",
    "    snr = signal_rms / noise_rms if noise_rms > 0 else np.inf\n",
    "    snr_db = 20 * np.log10(signal_rms / noise_rms) if noise_rms > 0 else np.inf\n",
    "    snr_values.append(snr_db)\n",
    "    print(f\"{path}: Signal RMS = {signal_rms:.6f}, SNR = {snr:.2f} | {snr_db:.2f} dB\")\n",
    "\n",
    "# Average SNR\n",
    "avg_snr = np.mean(snr_values)\n",
    "median_snr = np.median(snr_values)\n",
    "dev_snr = np.std(snr_values)\n",
    "print(f\"Standard Deviation of SNR: {dev_snr:.2f} dB\")\n",
    "print(f\"Median SNR: {median_snr:.2f} dB\")\n",
    "print(f\"Average SNR: {avg_snr:.2f} dB\")\n"
   ]
  },
  {
   "cell_type": "code",
   "execution_count": null,
   "id": "6deef5af",
   "metadata": {},
   "outputs": [
    {
     "ename": "TypeError",
     "evalue": "sequence item 0: expected str instance, numpy.float64 found",
     "output_type": "error",
     "traceback": [
      "\u001b[31m---------------------------------------------------------------------------\u001b[39m",
      "\u001b[31mTypeError\u001b[39m                                 Traceback (most recent call last)",
      "\u001b[36mCell\u001b[39m\u001b[36m \u001b[39m\u001b[32mIn[8]\u001b[39m\u001b[32m, line 4\u001b[39m\n\u001b[32m      1\u001b[39m \u001b[38;5;28;01mfrom\u001b[39;00m\u001b[38;5;250m \u001b[39m\u001b[34;01mscipy\u001b[39;00m\u001b[34;01m.\u001b[39;00m\u001b[34;01msignal\u001b[39;00m\u001b[34;01m.\u001b[39;00m\u001b[34;01mwindows\u001b[39;00m\u001b[38;5;250m \u001b[39m\u001b[38;5;28;01mimport\u001b[39;00m hann\n\u001b[32m      3\u001b[39m window = hann(\u001b[32m2048\u001b[39m, sym=\u001b[38;5;28;01mTrue\u001b[39;00m)\n\u001b[32m----> \u001b[39m\u001b[32m4\u001b[39m \u001b[38;5;28mprint\u001b[39m(\u001b[33mf\u001b[39m\u001b[33m\"\u001b[39m\u001b[33mconst float HannWindow::w[kFftSize] = \u001b[39m\u001b[38;5;130;01m{{\u001b[39;00m\u001b[38;5;132;01m{\u001b[39;00m\u001b[33;43m'\u001b[39;49m\u001b[33;43m,\u001b[39;49m\u001b[33;43m'\u001b[39;49m\u001b[43m.\u001b[49m\u001b[43mjoin\u001b[49m\u001b[43m(\u001b[49m\u001b[43mwindow\u001b[49m\u001b[43m)\u001b[49m\u001b[38;5;132;01m}\u001b[39;00m\u001b[38;5;130;01m}}\u001b[39;00m\u001b[33m);\u001b[39m\u001b[33m\"\u001b[39m)\n",
      "\u001b[31mTypeError\u001b[39m: sequence item 0: expected str instance, numpy.float64 found"
     ]
    }
   ],
   "source": [
    "from scipy.signal.windows import hann\n",
    "\n",
    "window = hann(2048, sym=True)\n",
    "print(f\"const float HannWindow::w[kFftSize] = {{{','.join(window.astype(str))}}});\")"
   ]
  }
 ],
 "metadata": {
  "kernelspec": {
   "display_name": ".venv",
   "language": "python",
   "name": "python3"
  },
  "language_info": {
   "codemirror_mode": {
    "name": "ipython",
    "version": 3
   },
   "file_extension": ".py",
   "mimetype": "text/x-python",
   "name": "python",
   "nbconvert_exporter": "python",
   "pygments_lexer": "ipython3",
   "version": "3.13.1"
  }
 },
 "nbformat": 4,
 "nbformat_minor": 5
}
